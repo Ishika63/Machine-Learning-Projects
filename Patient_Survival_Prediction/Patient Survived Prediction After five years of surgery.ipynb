{
 "cells": [
  {
   "cell_type": "code",
   "execution_count": 1,
   "id": "0f32b64f-6976-43ca-9a52-d5224134a4b6",
   "metadata": {},
   "outputs": [],
   "source": [
    "import numpy as np\n",
    "import pandas as pd"
   ]
  },
  {
   "cell_type": "code",
   "execution_count": 2,
   "id": "77b6714d-1e4a-4ca9-983e-48aa086aa6df",
   "metadata": {},
   "outputs": [],
   "source": [
    "df = pd.read_csv('haberman.csv',header=None, names=['age','operational_year','exil_node','survival'])"
   ]
  },
  {
   "cell_type": "code",
   "execution_count": 3,
   "id": "a798b556-5856-4da0-97be-fba76379eb2f",
   "metadata": {},
   "outputs": [
    {
     "data": {
      "text/html": [
       "<div>\n",
       "<style scoped>\n",
       "    .dataframe tbody tr th:only-of-type {\n",
       "        vertical-align: middle;\n",
       "    }\n",
       "\n",
       "    .dataframe tbody tr th {\n",
       "        vertical-align: top;\n",
       "    }\n",
       "\n",
       "    .dataframe thead th {\n",
       "        text-align: right;\n",
       "    }\n",
       "</style>\n",
       "<table border=\"1\" class=\"dataframe\">\n",
       "  <thead>\n",
       "    <tr style=\"text-align: right;\">\n",
       "      <th></th>\n",
       "      <th>age</th>\n",
       "      <th>operational_year</th>\n",
       "      <th>exil_node</th>\n",
       "      <th>survival</th>\n",
       "    </tr>\n",
       "  </thead>\n",
       "  <tbody>\n",
       "    <tr>\n",
       "      <th>0</th>\n",
       "      <td>30</td>\n",
       "      <td>64</td>\n",
       "      <td>1</td>\n",
       "      <td>1</td>\n",
       "    </tr>\n",
       "    <tr>\n",
       "      <th>1</th>\n",
       "      <td>30</td>\n",
       "      <td>62</td>\n",
       "      <td>3</td>\n",
       "      <td>1</td>\n",
       "    </tr>\n",
       "    <tr>\n",
       "      <th>2</th>\n",
       "      <td>30</td>\n",
       "      <td>65</td>\n",
       "      <td>0</td>\n",
       "      <td>1</td>\n",
       "    </tr>\n",
       "    <tr>\n",
       "      <th>3</th>\n",
       "      <td>31</td>\n",
       "      <td>59</td>\n",
       "      <td>2</td>\n",
       "      <td>1</td>\n",
       "    </tr>\n",
       "    <tr>\n",
       "      <th>4</th>\n",
       "      <td>31</td>\n",
       "      <td>65</td>\n",
       "      <td>4</td>\n",
       "      <td>1</td>\n",
       "    </tr>\n",
       "  </tbody>\n",
       "</table>\n",
       "</div>"
      ],
      "text/plain": [
       "   age  operational_year  exil_node  survival\n",
       "0   30                64          1         1\n",
       "1   30                62          3         1\n",
       "2   30                65          0         1\n",
       "3   31                59          2         1\n",
       "4   31                65          4         1"
      ]
     },
     "execution_count": 3,
     "metadata": {},
     "output_type": "execute_result"
    }
   ],
   "source": [
    "df.head()"
   ]
  },
  {
   "cell_type": "markdown",
   "id": "5f9b05f6-0b7d-451c-b2d2-fc4af4a000bd",
   "metadata": {},
   "source": [
    "## Six Questions\r\n"
   ]
  },
  {
   "cell_type": "code",
   "execution_count": 4,
   "id": "d84124f3-f681-4246-b90a-152c9455eb96",
   "metadata": {},
   "outputs": [
    {
     "data": {
      "text/plain": [
       "(306, 4)"
      ]
     },
     "execution_count": 4,
     "metadata": {},
     "output_type": "execute_result"
    }
   ],
   "source": [
    "df.shape"
   ]
  },
  {
   "cell_type": "code",
   "execution_count": 5,
   "id": "85cf2333-0191-4b0d-a8cd-f1f37af8c650",
   "metadata": {},
   "outputs": [
    {
     "data": {
      "text/plain": [
       "age                 0\n",
       "operational_year    0\n",
       "exil_node           0\n",
       "survival            0\n",
       "dtype: int64"
      ]
     },
     "execution_count": 5,
     "metadata": {},
     "output_type": "execute_result"
    }
   ],
   "source": [
    "df.isnull().sum()"
   ]
  },
  {
   "cell_type": "code",
   "execution_count": 6,
   "id": "ca6a103f-f41e-466c-aa08-7279229a3485",
   "metadata": {},
   "outputs": [
    {
     "data": {
      "text/plain": [
       "17"
      ]
     },
     "execution_count": 6,
     "metadata": {},
     "output_type": "execute_result"
    }
   ],
   "source": [
    "df.duplicated().sum()"
   ]
  },
  {
   "cell_type": "code",
   "execution_count": 7,
   "id": "5e5232f2-32c4-4099-9a30-774c6d1fd152",
   "metadata": {},
   "outputs": [],
   "source": [
    "df.drop_duplicates(inplace=True)"
   ]
  },
  {
   "cell_type": "code",
   "execution_count": 8,
   "id": "864a9abe-a141-41de-830d-aa8ae0f52937",
   "metadata": {},
   "outputs": [
    {
     "data": {
      "text/plain": [
       "0"
      ]
     },
     "execution_count": 8,
     "metadata": {},
     "output_type": "execute_result"
    }
   ],
   "source": [
    "df.duplicated().sum()"
   ]
  },
  {
   "cell_type": "code",
   "execution_count": 9,
   "id": "d1cb6d94-0bbe-4a00-8846-01af3345eec7",
   "metadata": {},
   "outputs": [
    {
     "name": "stdout",
     "output_type": "stream",
     "text": [
      "<class 'pandas.core.frame.DataFrame'>\n",
      "Index: 289 entries, 0 to 305\n",
      "Data columns (total 4 columns):\n",
      " #   Column            Non-Null Count  Dtype\n",
      "---  ------            --------------  -----\n",
      " 0   age               289 non-null    int64\n",
      " 1   operational_year  289 non-null    int64\n",
      " 2   exil_node         289 non-null    int64\n",
      " 3   survival          289 non-null    int64\n",
      "dtypes: int64(4)\n",
      "memory usage: 11.3 KB\n"
     ]
    }
   ],
   "source": [
    "df.info()"
   ]
  },
  {
   "cell_type": "code",
   "execution_count": 10,
   "id": "f5479d62-0412-4431-ac20-5e10317a55eb",
   "metadata": {},
   "outputs": [
    {
     "data": {
      "text/html": [
       "<div>\n",
       "<style scoped>\n",
       "    .dataframe tbody tr th:only-of-type {\n",
       "        vertical-align: middle;\n",
       "    }\n",
       "\n",
       "    .dataframe tbody tr th {\n",
       "        vertical-align: top;\n",
       "    }\n",
       "\n",
       "    .dataframe thead th {\n",
       "        text-align: right;\n",
       "    }\n",
       "</style>\n",
       "<table border=\"1\" class=\"dataframe\">\n",
       "  <thead>\n",
       "    <tr style=\"text-align: right;\">\n",
       "      <th></th>\n",
       "      <th>age</th>\n",
       "      <th>operational_year</th>\n",
       "      <th>exil_node</th>\n",
       "      <th>survival</th>\n",
       "    </tr>\n",
       "  </thead>\n",
       "  <tbody>\n",
       "    <tr>\n",
       "      <th>count</th>\n",
       "      <td>289.000000</td>\n",
       "      <td>289.000000</td>\n",
       "      <td>289.000000</td>\n",
       "      <td>289.000000</td>\n",
       "    </tr>\n",
       "    <tr>\n",
       "      <th>mean</th>\n",
       "      <td>52.422145</td>\n",
       "      <td>62.906574</td>\n",
       "      <td>4.221453</td>\n",
       "      <td>1.273356</td>\n",
       "    </tr>\n",
       "    <tr>\n",
       "      <th>std</th>\n",
       "      <td>10.876915</td>\n",
       "      <td>3.275794</td>\n",
       "      <td>7.325239</td>\n",
       "      <td>0.446455</td>\n",
       "    </tr>\n",
       "    <tr>\n",
       "      <th>min</th>\n",
       "      <td>30.000000</td>\n",
       "      <td>58.000000</td>\n",
       "      <td>0.000000</td>\n",
       "      <td>1.000000</td>\n",
       "    </tr>\n",
       "    <tr>\n",
       "      <th>25%</th>\n",
       "      <td>44.000000</td>\n",
       "      <td>60.000000</td>\n",
       "      <td>0.000000</td>\n",
       "      <td>1.000000</td>\n",
       "    </tr>\n",
       "    <tr>\n",
       "      <th>50%</th>\n",
       "      <td>52.000000</td>\n",
       "      <td>63.000000</td>\n",
       "      <td>1.000000</td>\n",
       "      <td>1.000000</td>\n",
       "    </tr>\n",
       "    <tr>\n",
       "      <th>75%</th>\n",
       "      <td>60.000000</td>\n",
       "      <td>66.000000</td>\n",
       "      <td>5.000000</td>\n",
       "      <td>2.000000</td>\n",
       "    </tr>\n",
       "    <tr>\n",
       "      <th>max</th>\n",
       "      <td>83.000000</td>\n",
       "      <td>69.000000</td>\n",
       "      <td>52.000000</td>\n",
       "      <td>2.000000</td>\n",
       "    </tr>\n",
       "  </tbody>\n",
       "</table>\n",
       "</div>"
      ],
      "text/plain": [
       "              age  operational_year   exil_node    survival\n",
       "count  289.000000        289.000000  289.000000  289.000000\n",
       "mean    52.422145         62.906574    4.221453    1.273356\n",
       "std     10.876915          3.275794    7.325239    0.446455\n",
       "min     30.000000         58.000000    0.000000    1.000000\n",
       "25%     44.000000         60.000000    0.000000    1.000000\n",
       "50%     52.000000         63.000000    1.000000    1.000000\n",
       "75%     60.000000         66.000000    5.000000    2.000000\n",
       "max     83.000000         69.000000   52.000000    2.000000"
      ]
     },
     "execution_count": 10,
     "metadata": {},
     "output_type": "execute_result"
    }
   ],
   "source": [
    "df.describe()"
   ]
  },
  {
   "cell_type": "markdown",
   "id": "4b62d628-92c1-41a5-a184-cf117c938b66",
   "metadata": {},
   "source": [
    "## EDA"
   ]
  },
  {
   "cell_type": "code",
   "execution_count": 11,
   "id": "8fed9746-7803-42bb-95f7-accf5a05ae32",
   "metadata": {},
   "outputs": [],
   "source": [
    "corr = df.corr()"
   ]
  },
  {
   "cell_type": "code",
   "execution_count": 13,
   "id": "45354dc1-f4ee-4745-9767-463d0236cab0",
   "metadata": {},
   "outputs": [
    {
     "data": {
      "text/plain": [
       "<Axes: >"
      ]
     },
     "execution_count": 13,
     "metadata": {},
     "output_type": "execute_result"
    },
    {
     "data": {
      "image/png": "[encoded data removed]",
      "text/plain": [
       "<Figure size 640x480 with 2 Axes>"
      ]
     },
     "metadata": {},
     "output_type": "display_data"
    }
   ],
   "source": [
    "import seaborn as sns\n",
    "sns.heatmap(corr,annot=True, cbar=True,cmap='plasma')"
   ]
  },
  {
   "cell_type": "markdown",
   "id": "ac12423d-be84-45fc-b0a7-2c6d7b696569",
   "metadata": {},
   "source": [
    "# Univariate analysis"
   ]
  },
  {
   "cell_type": "markdown",
   "id": "78f27052-32d4-45d5-b466-91e9beaab3bb",
   "metadata": {},
   "source": [
    "## Histogram and Distribution plot\r\n"
   ]
  },
  {
   "cell_type": "markdown",
   "id": "f6a03502-ed0a-4031-ad44-7e5b47fb7361",
   "metadata": {},
   "source": [
    "A histogram is a graphical representation of the distribution of a numerical dataset. Seaborn's displot() function can be used to draw histograms.\r\n"
   ]
  },
  {
   "cell_type": "code",
   "execution_count": 14,
   "id": "dee624ff-75bb-497f-a071-eac52f272f93",
   "metadata": {},
   "outputs": [
    {
     "name": "stderr",
     "output_type": "stream",
     "text": [
      "C:\\Users\\chokh\\AppData\\Local\\Temp\\ipykernel_17840\\1164331168.py:1: UserWarning: \n",
      "\n",
      "`distplot` is a deprecated function and will be removed in seaborn v0.14.0.\n",
      "\n",
      "Please adapt your code to use either `displot` (a figure-level function with\n",
      "similar flexibility) or `histplot` (an axes-level function for histograms).\n",
      "\n",
      "For a guide to updating your code to use the new functions, please see\n",
      "https://gist.github.com/mwaskom/de44147ed2974457ad6372750bbe5751\n",
      "\n",
      "  sns.distplot(df['operational_year'])\n",
      "C:\\Users\\chokh\\AppData\\Local\\Programs\\Python\\Python311\\Lib\\site-packages\\seaborn\\_oldcore.py:1498: FutureWarning: is_categorical_dtype is deprecated and will be removed in a future version. Use isinstance(dtype, CategoricalDtype) instead\n",
      "  if pd.api.types.is_categorical_dtype(vector):\n",
      "C:\\Users\\chokh\\AppData\\Local\\Programs\\Python\\Python311\\Lib\\site-packages\\seaborn\\_oldcore.py:1119: FutureWarning: use_inf_as_na option is deprecated and will be removed in a future version. Convert inf values to NaN before operating instead.\n",
      "  with pd.option_context('mode.use_inf_as_na', True):\n"
     ]
    },
    {
     "data": {
      "text/plain": [
       "<Axes: xlabel='operational_year', ylabel='Density'>"
      ]
     },
     "execution_count": 14,
     "metadata": {},
     "output_type": "execute_result"
    },
    {
     "data": {
      "image/png": "[encoded data removed]",
      "text/plain": [
       "<Figure size 640x480 with 1 Axes>"
      ]
     },
     "metadata": {},
     "output_type": "display_data"
    }
   ],
   "source": [
    "sns.distplot(df['operational_year'])"
   ]
  },
  {
   "cell_type": "code",
   "execution_count": 15,
   "id": "1fea9f25-fc6f-4b8e-ab3f-13e21deb6b1f",
   "metadata": {},
   "outputs": [
    {
     "name": "stderr",
     "output_type": "stream",
     "text": [
      "C:\\Users\\chokh\\AppData\\Local\\Programs\\Python\\Python311\\Lib\\site-packages\\seaborn\\_oldcore.py:1498: FutureWarning: is_categorical_dtype is deprecated and will be removed in a future version. Use isinstance(dtype, CategoricalDtype) instead\n",
      "  if pd.api.types.is_categorical_dtype(vector):\n",
      "C:\\Users\\chokh\\AppData\\Local\\Programs\\Python\\Python311\\Lib\\site-packages\\seaborn\\_oldcore.py:1119: FutureWarning: use_inf_as_na option is deprecated and will be removed in a future version. Convert inf values to NaN before operating instead.\n",
      "  with pd.option_context('mode.use_inf_as_na', True):\n"
     ]
    },
    {
     "data": {
      "text/plain": [
       "<Axes: xlabel='age', ylabel='Count'>"
      ]
     },
     "execution_count": 15,
     "metadata": {},
     "output_type": "execute_result"
    },
    {
     "data": {
      "image/png": "[encoded data removed]",
      "text/plain": [
       "<Figure size 640x480 with 1 Axes>"
      ]
     },
     "metadata": {},
     "output_type": "display_data"
    }
   ],
   "source": [
    "sns.histplot(df['age'])"
   ]
  },
  {
   "cell_type": "markdown",
   "id": "22524924-44c0-4c75-84e7-55538f84632e",
   "metadata": {},
   "source": [
    "## Relation"
   ]
  },
  {
   "cell_type": "code",
   "execution_count": 16,
   "id": "6ebffcbc-8873-4db0-81f2-0aefd2a077fb",
   "metadata": {},
   "outputs": [
    {
     "name": "stderr",
     "output_type": "stream",
     "text": [
      "C:\\Users\\chokh\\AppData\\Local\\Programs\\Python\\Python311\\Lib\\site-packages\\seaborn\\_oldcore.py:1498: FutureWarning: is_categorical_dtype is deprecated and will be removed in a future version. Use isinstance(dtype, CategoricalDtype) instead\n",
      "  if pd.api.types.is_categorical_dtype(vector):\n",
      "C:\\Users\\chokh\\AppData\\Local\\Programs\\Python\\Python311\\Lib\\site-packages\\seaborn\\_oldcore.py:1498: FutureWarning: is_categorical_dtype is deprecated and will be removed in a future version. Use isinstance(dtype, CategoricalDtype) instead\n",
      "  if pd.api.types.is_categorical_dtype(vector):\n"
     ]
    },
    {
     "data": {
      "text/plain": [
       "<Axes: xlabel='age', ylabel='survival'>"
      ]
     },
     "execution_count": 16,
     "metadata": {},
     "output_type": "execute_result"
    },
    {
     "data": {
      "image/png": "[encoded data removed]",
      "text/plain": [
       "<Figure size 640x480 with 1 Axes>"
      ]
     },
     "metadata": {},
     "output_type": "display_data"
    }
   ],
   "source": [
    "sns.scatterplot(x=df['age'],y=df['survival'])"
   ]
  },
  {
   "cell_type": "markdown",
   "id": "cd842ced-1cf4-4568-b384-f954b3cb9f99",
   "metadata": {},
   "source": [
    "## train test split\r\n"
   ]
  },
  {
   "cell_type": "code",
   "execution_count": 17,
   "id": "3fe5572c-d2bc-48d4-9655-30d4adcca31e",
   "metadata": {},
   "outputs": [],
   "source": [
    "X = df.drop(\"survival\",axis=1)\n",
    "y = df['survival']"
   ]
  },
  {
   "cell_type": "code",
   "execution_count": 18,
   "id": "f0bdf11b-918e-402a-a29e-06f8a9bfe189",
   "metadata": {},
   "outputs": [
    {
     "data": {
      "text/plain": [
       "(289, 3)"
      ]
     },
     "execution_count": 18,
     "metadata": {},
     "output_type": "execute_result"
    }
   ],
   "source": [
    "X.shape"
   ]
  },
  {
   "cell_type": "code",
   "execution_count": 19,
   "id": "677eaa19-7199-48a8-93f1-763fc45456aa",
   "metadata": {},
   "outputs": [],
   "source": [
    "from sklearn.model_selection import train_test_split"
   ]
  },
  {
   "cell_type": "code",
   "execution_count": 20,
   "id": "1de16ee7-3b32-427f-b021-121c5854fde9",
   "metadata": {},
   "outputs": [],
   "source": [
    "X_train, X_test, y_train, y_test = train_test_split(X, y, test_size=0.2, random_state=2)"
   ]
  },
  {
   "cell_type": "code",
   "execution_count": 21,
   "id": "326a4b6b-def1-4acc-96c3-6f75c5d3c1d3",
   "metadata": {},
   "outputs": [
    {
     "data": {
      "text/plain": [
       "(231, 3)"
      ]
     },
     "execution_count": 21,
     "metadata": {},
     "output_type": "execute_result"
    }
   ],
   "source": [
    "X_train.shape"
   ]
  },
  {
   "cell_type": "code",
   "execution_count": 22,
   "id": "0c20d422-b7fc-4049-b403-e5d93f3e4c7e",
   "metadata": {},
   "outputs": [
    {
     "data": {
      "text/plain": [
       "(58, 3)"
      ]
     },
     "execution_count": 22,
     "metadata": {},
     "output_type": "execute_result"
    }
   ],
   "source": [
    "X_test.shape"
   ]
  },
  {
   "cell_type": "code",
   "execution_count": 23,
   "id": "83b6b720-c9f0-46d1-ba70-57577b8d9985",
   "metadata": {},
   "outputs": [
    {
     "data": {
      "text/plain": [
       "(231,)"
      ]
     },
     "execution_count": 23,
     "metadata": {},
     "output_type": "execute_result"
    }
   ],
   "source": [
    "y_train.shape"
   ]
  },
  {
   "cell_type": "code",
   "execution_count": 24,
   "id": "20cdbc5b-de26-4413-a74a-4307756cd93f",
   "metadata": {},
   "outputs": [
    {
     "data": {
      "text/plain": [
       "(58,)"
      ]
     },
     "execution_count": 24,
     "metadata": {},
     "output_type": "execute_result"
    }
   ],
   "source": [
    "y_test.shape"
   ]
  },
  {
   "cell_type": "markdown",
   "id": "f170d00d-1af7-48f5-bb4c-65f98ffc5da3",
   "metadata": {},
   "source": [
    "## Standarization"
   ]
  },
  {
   "cell_type": "code",
   "execution_count": 25,
   "id": "58dd334c-fef9-430b-8f30-abe280b7fd49",
   "metadata": {},
   "outputs": [],
   "source": [
    "from sklearn.preprocessing import StandardScaler\n",
    "sclr = StandardScaler()"
   ]
  },
  {
   "cell_type": "code",
   "execution_count": 26,
   "id": "6b8aaef7-6d20-4460-b3ec-051d6a251466",
   "metadata": {},
   "outputs": [],
   "source": [
    "sclr.fit(X_train)\n",
    "X_train = sclr.transform(X_train)\n",
    "X_test = sclr.transform(X_test)"
   ]
  },
  {
   "cell_type": "code",
   "execution_count": 27,
   "id": "3382b00d-4208-4e08-8a9f-2ccb4f03de34",
   "metadata": {},
   "outputs": [
    {
     "data": {
      "text/plain": [
       "array([[-0.51822925, -1.49026827, -0.14363524],\n",
       "       [ 1.7473074 ,  0.34411168, -0.54826623],\n",
       "       [ 0.02549955, -0.87880829, -0.27851224],\n",
       "       [-0.06512192, -0.2673483 , -0.54826623],\n",
       "       [-0.51822925, -0.87880829, -0.00875825],\n",
       "       [ 0.02549955, -0.87880829, -0.41338923],\n",
       "       [ 0.84109274, -0.2673483 ,  0.26099575],\n",
       "       [-0.97133658, -1.18453828, -0.27851224],\n",
       "       [-1.9681727 ,  0.64984167, -0.00875825],\n",
       "       [ 0.9317142 ,  0.03838169, -0.54826623],\n",
       "       [ 0.56922834,  0.03838169, -0.54826623],\n",
       "       [ 0.56922834,  0.34411168, -0.54826623],\n",
       "       [ 0.75047127,  0.34411168, -0.54826623],\n",
       "       [ 1.475443  ,  1.26130165,  0.53074974],\n",
       "       [ 1.11295714, -1.18453828, -0.27851224],\n",
       "       [-1.33382244, -1.18453828, -0.27851224],\n",
       "       [ 1.56606446, -1.49026827, -0.00875825],\n",
       "       [ 0.02549955, -0.87880829,  0.66562673],\n",
       "       [-1.42444391, -1.49026827, -0.54826623],\n",
       "       [-1.33382244,  0.95557166, -0.54826623],\n",
       "       [-0.79009365,  0.03838169,  2.01439669],\n",
       "       [ 1.56606446, -1.49026827, -0.54826623],\n",
       "       [ 0.29736394,  0.95557166, -0.14363524],\n",
       "       [-0.88071511,  0.34411168, -0.14363524],\n",
       "       [-1.60568684,  0.34411168,  1.20513472],\n",
       "       [ 1.38482153,  1.26130165, -0.54826623],\n",
       "       [-1.42444391, -0.87880829, -0.54826623],\n",
       "       [-0.60885071,  1.87276164, -0.14363524],\n",
       "       [ 1.11295714,  0.95557166,  1.47488871],\n",
       "       [ 1.02233567,  0.95557166, -0.54826623],\n",
       "       [-1.33382244, -0.87880829, -0.54826623],\n",
       "       [ 0.02549955,  0.03838169, -0.54826623],\n",
       "       [ 0.38798541, -0.2673483 ,  1.34001171],\n",
       "       [ 0.20674248,  1.87276164,  2.41902768],\n",
       "       [ 0.47860688, -0.5730783 , -0.27851224],\n",
       "       [-0.79009365,  0.34411168,  0.26099575],\n",
       "       [ 0.38798541,  0.34411168, -0.41338923],\n",
       "       [-0.33698632,  0.03838169, -0.14363524],\n",
       "       [-1.06195804, -1.49026827, -0.54826623],\n",
       "       [-1.78692977, -0.87880829, -0.54826623],\n",
       "       [ 1.2035786 , -0.5730783 ,  1.20513472],\n",
       "       [-1.6963083 ,  1.26130165,  0.39587274],\n",
       "       [-0.51822925,  0.64984167, -0.54826623],\n",
       "       [ 0.11612101,  0.03838169,  2.01439669],\n",
       "       [-0.24636485, -1.18453828, -0.54826623],\n",
       "       [-1.78692977, -1.49026827,  0.80050373],\n",
       "       [ 1.2035786 ,  1.56703164, -0.54826623],\n",
       "       [-2.05879417,  0.64984167, -0.54826623],\n",
       "       [-0.69947218,  1.26130165, -0.54826623],\n",
       "       [-0.88071511,  0.64984167, -0.54826623],\n",
       "       [ 0.29736394,  0.64984167,  0.66562673],\n",
       "       [ 0.02549955,  0.03838169,  2.68878167],\n",
       "       [ 1.11295714,  0.34411168, -0.54826623],\n",
       "       [ 0.11612101,  1.56703164,  0.39587274],\n",
       "       [ 0.02549955, -1.18453828, -0.14363524],\n",
       "       [ 0.65984981,  0.34411168, -0.54826623],\n",
       "       [-0.15574338,  0.34411168,  0.39587274],\n",
       "       [ 1.56606446,  1.56703164, -0.54826623],\n",
       "       [ 1.56606446,  0.03838169, -0.54826623],\n",
       "       [ 1.7473074 ,  0.03838169, -0.54826623],\n",
       "       [-0.60885071,  0.03838169, -0.54826623],\n",
       "       [ 1.11295714, -0.2673483 ,  2.41902768],\n",
       "       [-0.42760778,  1.26130165,  0.39587274],\n",
       "       [-0.42760778, -0.5730783 ,  0.53074974],\n",
       "       [ 0.38798541, -0.5730783 ,  0.12611875],\n",
       "       [-0.33698632, -0.2673483 , -0.41338923],\n",
       "       [-0.15574338,  0.64984167, -0.54826623],\n",
       "       [ 0.02549955, -1.49026827, -0.41338923],\n",
       "       [-1.6963083 , -1.49026827,  3.49804365],\n",
       "       [-1.24320097,  0.03838169, -0.00875825],\n",
       "       [ 2.20041473,  0.64984167, -0.14363524],\n",
       "       [-1.06195804, -1.18453828,  0.53074974],\n",
       "       [ 0.11612101,  0.64984167,  2.55390468],\n",
       "       [ 0.9317142 ,  0.95557166, -0.54826623],\n",
       "       [ 2.10979326,  1.26130165, -0.54826623],\n",
       "       [ 0.20674248,  0.95557166,  1.8795197 ],\n",
       "       [-1.06195804,  1.87276164,  0.53074974],\n",
       "       [-1.06195804,  0.34411168, -0.54826623],\n",
       "       [ 0.75047127,  1.56703164, -0.54826623],\n",
       "       [-0.97133658,  0.64984167, -0.54826623],\n",
       "       [-0.24636485, -0.5730783 , -0.54826623],\n",
       "       [ 0.02549955,  0.64984167,  1.07025772],\n",
       "       [ 1.11295714, -0.5730783 , -0.27851224],\n",
       "       [ 1.56606446,  1.26130165, -0.54826623],\n",
       "       [ 0.11612101, -1.49026827, -0.41338923],\n",
       "       [ 0.20674248, -1.49026827, -0.54826623],\n",
       "       [ 0.38798541, -0.5730783 , -0.54826623],\n",
       "       [-2.05879417, -0.2673483 , -0.14363524],\n",
       "       [-0.06512192, -0.5730783 , -0.54826623],\n",
       "       [-0.33698632, -0.2673483 , -0.54826623],\n",
       "       [ 1.475443  , -0.87880829, -0.54826623],\n",
       "       [ 0.75047127,  1.56703164, -0.41338923],\n",
       "       [-0.42760778,  0.95557166, -0.54826623],\n",
       "       [-1.6963083 ,  0.95557166,  0.66562673],\n",
       "       [ 0.56922834,  0.34411168, -0.00875825],\n",
       "       [ 1.56606446,  0.95557166,  1.34001171],\n",
       "       [ 0.29736394, -0.87880829, -0.54826623],\n",
       "       [-1.42444391, -1.18453828,  0.26099575],\n",
       "       [ 1.475443  ,  0.95557166, -0.54826623],\n",
       "       [ 0.47860688, -1.18453828, -0.54826623],\n",
       "       [ 0.47860688, -1.49026827, -0.54826623],\n",
       "       [-0.24636485,  0.34411168, -0.54826623],\n",
       "       [ 0.84109274, -1.49026827, -0.54826623],\n",
       "       [ 1.83792886,  1.56703164, -0.54826623],\n",
       "       [ 0.20674248,  1.56703164,  1.47488871],\n",
       "       [-0.69947218, -0.87880829, -0.54826623],\n",
       "       [ 1.02233567,  0.64984167,  2.41902768],\n",
       "       [-1.06195804, -1.18453828, -0.54826623],\n",
       "       [-0.33698632,  0.03838169, -0.54826623],\n",
       "       [ 0.84109274, -1.18453828,  1.20513472],\n",
       "       [ 1.2035786 , -1.49026827, -0.54826623],\n",
       "       [ 0.65984981,  1.26130165, -0.27851224],\n",
       "       [-0.69947218,  1.56703164, -0.54826623],\n",
       "       [-0.06512192,  1.87276164, -0.14363524],\n",
       "       [ 1.29420007,  0.34411168,  0.53074974],\n",
       "       [ 0.9317142 , -0.5730783 ,  0.66562673],\n",
       "       [ 1.83792886, -0.2673483 , -0.54826623],\n",
       "       [ 0.29736394,  1.26130165, -0.54826623],\n",
       "       [-1.24320097, -1.18453828, -0.27851224],\n",
       "       [-0.51822925, -0.2673483 , -0.54826623],\n",
       "       [ 1.56606446, -1.18453828,  0.53074974],\n",
       "       [-0.88071511,  0.03838169,  1.34001171],\n",
       "       [-2.05879417,  0.34411168, -0.41338923],\n",
       "       [-1.33382244,  0.34411168, -0.41338923],\n",
       "       [-0.51822925,  1.56703164, -0.00875825],\n",
       "       [ 0.20674248,  0.95557166, -0.54826623],\n",
       "       [ 0.56922834, -0.87880829, -0.54826623],\n",
       "       [-0.06512192,  1.56703164, -0.54826623],\n",
       "       [ 1.2035786 , -1.49026827, -0.54826623],\n",
       "       [ 1.11295714,  1.26130165, -0.41338923],\n",
       "       [ 0.84109274,  0.95557166, -0.54826623],\n",
       "       [ 0.02549955, -0.5730783 , -0.41338923],\n",
       "       [-0.06512192, -0.87880829,  0.12611875],\n",
       "       [-1.51506537,  1.87276164, -0.54826623],\n",
       "       [-0.88071511, -1.49026827,  6.46533756],\n",
       "       [ 0.11612101, -0.87880829, -0.14363524],\n",
       "       [ 0.75047127, -1.18453828, -0.54826623],\n",
       "       [ 1.7473074 ,  1.26130165, -0.14363524],\n",
       "       [ 0.56922834, -0.2673483 ,  4.17242863],\n",
       "       [ 0.02549955, -1.49026827, -0.00875825],\n",
       "       [-0.24636485,  0.03838169, -0.41338923],\n",
       "       [-0.97133658, -0.5730783 , -0.00875825],\n",
       "       [-1.51506537, -0.87880829, -0.41338923],\n",
       "       [ 0.47860688,  1.26130165, -0.54826623],\n",
       "       [ 0.47860688, -1.49026827, -0.14363524],\n",
       "       [ 1.29420007,  0.95557166, -0.54826623],\n",
       "       [ 0.9317142 , -0.87880829, -0.41338923],\n",
       "       [ 1.02233567, -0.5730783 , -0.54826623],\n",
       "       [-0.60885071,  0.64984167,  2.14927369],\n",
       "       [-0.06512192,  0.34411168, -0.54826623],\n",
       "       [-0.51822925,  1.26130165, -0.54826623],\n",
       "       [-0.24636485, -1.18453828, -0.27851224],\n",
       "       [ 0.75047127,  0.64984167, -0.54826623],\n",
       "       [-0.88071511,  0.34411168, -0.54826623],\n",
       "       [-0.69947218,  0.34411168, -0.54826623],\n",
       "       [ 2.74414352, -1.49026827, -0.27851224],\n",
       "       [-0.88071511,  0.95557166, -0.00875825],\n",
       "       [-0.15574338, -1.18453828,  1.20513472],\n",
       "       [ 0.56922834,  0.34411168,  0.39587274],\n",
       "       [-0.97133658, -0.2673483 ,  2.14927369],\n",
       "       [-1.42444391,  0.03838169, -0.54826623],\n",
       "       [ 0.47860688, -0.87880829, -0.14363524],\n",
       "       [-0.60885071, -0.2673483 ,  0.12611875],\n",
       "       [-0.79009365, -1.49026827,  0.66562673],\n",
       "       [-0.06512192, -0.2673483 , -0.14363524],\n",
       "       [-0.88071511, -1.18453828, -0.27851224],\n",
       "       [-1.24320097,  1.26130165, -0.54826623],\n",
       "       [-1.15257951,  0.64984167, -0.54826623],\n",
       "       [-0.06512192,  0.95557166, -0.00875825],\n",
       "       [-0.69947218,  0.95557166, -0.54826623],\n",
       "       [ 1.11295714, -1.49026827, -0.54826623],\n",
       "       [-1.33382244, -0.2673483 , -0.14363524],\n",
       "       [-1.24320097,  0.95557166, -0.54826623],\n",
       "       [-1.06195804,  1.26130165, -0.54826623],\n",
       "       [-0.51822925,  0.95557166, -0.54826623],\n",
       "       [-0.69947218,  1.26130165, -0.41338923],\n",
       "       [ 0.38798541,  0.34411168,  0.66562673],\n",
       "       [ 1.475443  ,  0.64984167, -0.54826623],\n",
       "       [-0.33698632, -0.5730783 , -0.41338923],\n",
       "       [-0.42760778, -0.2673483 , -0.27851224],\n",
       "       [ 0.29736394,  0.95557166, -0.41338923],\n",
       "       [-0.79009365,  0.03838169, -0.41338923],\n",
       "       [-0.33698632,  1.26130165, -0.41338923],\n",
       "       [ 0.02549955,  0.64984167, -0.41338923],\n",
       "       [-0.06512192, -0.2673483 , -0.41338923],\n",
       "       [ 1.11295714,  1.26130165, -0.54826623],\n",
       "       [ 1.11295714, -1.49026827, -0.54826623],\n",
       "       [ 0.9317142 , -0.2673483 , -0.54826623],\n",
       "       [ 2.29103619,  0.64984167, -0.41338923],\n",
       "       [ 0.9317142 , -0.5730783 ,  3.22828966],\n",
       "       [ 0.20674248,  1.87276164, -0.14363524],\n",
       "       [-0.06512192, -1.18453828, -0.27851224],\n",
       "       [ 0.20674248, -1.49026827, -0.41338923],\n",
       "       [-1.15257951, -1.49026827, -0.54826623],\n",
       "       [-1.06195804,  0.64984167, -0.54826623],\n",
       "       [ 0.56922834,  0.34411168, -0.41338923],\n",
       "       [-0.88071511,  0.34411168, -0.27851224],\n",
       "       [ 1.7473074 , -1.49026827, -0.54826623],\n",
       "       [-0.15574338, -1.18453828, -0.41338923],\n",
       "       [-0.97133658,  1.87276164, -0.41338923],\n",
       "       [ 1.02233567, -1.49026827, -0.54826623],\n",
       "       [-0.97133658, -1.49026827, -0.54826623],\n",
       "       [-0.69947218, -1.18453828,  1.34001171],\n",
       "       [-1.33382244,  1.26130165,  0.12611875],\n",
       "       [-0.24636485, -0.5730783 ,  0.26099575],\n",
       "       [ 0.56922834,  1.26130165, -0.14363524],\n",
       "       [ 0.38798541,  1.26130165, -0.54826623],\n",
       "       [-0.60885071, -0.2673483 , -0.54826623],\n",
       "       [ 1.2035786 , -1.49026827, -0.41338923],\n",
       "       [-0.97133658,  0.03838169, -0.41338923],\n",
       "       [-1.24320097,  0.03838169, -0.54826623],\n",
       "       [-1.15257951, -1.49026827, -0.27851224],\n",
       "       [-0.97133658, -1.18453828, -0.54826623],\n",
       "       [ 1.29420007, -0.5730783 , -0.54826623],\n",
       "       [-0.42760778, -1.49026827,  0.93538072],\n",
       "       [ 0.38798541,  0.34411168, -0.54826623],\n",
       "       [ 0.11612101,  1.26130165,  5.65607558],\n",
       "       [-0.33698632, -0.5730783 , -0.54826623],\n",
       "       [-0.24636485, -1.49026827, -0.41338923],\n",
       "       [ 0.75047127, -0.2673483 ,  0.12611875],\n",
       "       [-1.06195804,  0.34411168, -0.54826623],\n",
       "       [ 0.65984981,  0.64984167, -0.54826623],\n",
       "       [ 2.01917179, -0.2673483 , -0.41338923],\n",
       "       [-0.51822925,  0.03838169,  0.26099575],\n",
       "       [ 0.11612101,  0.64984167,  0.12611875],\n",
       "       [ 1.38482153,  1.56703164, -0.54826623],\n",
       "       [-0.69947218,  0.64984167,  0.26099575],\n",
       "       [-1.42444391, -0.87880829,  1.47488871],\n",
       "       [-0.79009365, -0.5730783 , -0.54826623],\n",
       "       [-1.60568684,  0.03838169, -0.54826623],\n",
       "       [ 0.11612101, -0.2673483 , -0.54826623]])"
      ]
     },
     "execution_count": 27,
     "metadata": {},
     "output_type": "execute_result"
    }
   ],
   "source": [
    "X_train"
   ]
  },
  {
   "cell_type": "markdown",
   "id": "2264b570-1e14-477b-af1f-2507bddc9a68",
   "metadata": {},
   "source": [
    "## Training models\r\n"
   ]
  },
  {
   "cell_type": "code",
   "execution_count": 28,
   "id": "0814c2b2-b7f0-43da-b5d1-fd3f31f9939e",
   "metadata": {},
   "outputs": [
    {
     "data": {
      "text/plain": [
       "survival\n",
       "1    210\n",
       "2     79\n",
       "Name: count, dtype: int64"
      ]
     },
     "execution_count": 28,
     "metadata": {},
     "output_type": "execute_result"
    }
   ],
   "source": [
    "df['survival'].value_counts()"
   ]
  },
  {
   "cell_type": "markdown",
   "id": "9eccc0e7-0c59-4b09-ac8c-c8aa30830ad7",
   "metadata": {},
   "source": [
    "## Selecting model\r\n"
   ]
  },
  {
   "cell_type": "code",
   "execution_count": 29,
   "id": "1fdf1647-8c52-400c-b0cb-41fec399a01f",
   "metadata": {},
   "outputs": [],
   "source": [
    "from sklearn.linear_model import LogisticRegression\n",
    "from sklearn.tree import DecisionTreeClassifier\n",
    "from sklearn.naive_bayes import GaussianNB\n",
    "from sklearn.metrics import accuracy_score"
   ]
  },
  {
   "cell_type": "code",
   "execution_count": 30,
   "id": "c1d68aa3-97f3-47f1-8209-2fba5aa6fb0b",
   "metadata": {},
   "outputs": [
    {
     "name": "stdout",
     "output_type": "stream",
     "text": [
      "lg with accuracy : 0.7413793103448276\n",
      "dtc with accuracy : 0.5344827586206896\n",
      "gnb with accuracy : 0.7758620689655172\n"
     ]
    }
   ],
   "source": [
    "models = {\n",
    "    'lg':LogisticRegression(),\n",
    "    'dtc':DecisionTreeClassifier(),\n",
    "    'gnb':GaussianNB()\n",
    "}\n",
    "\n",
    "\n",
    "for name, mod in models.items():\n",
    "    mod.fit(X_train,y_train)\n",
    "    y_pred = mod.predict(X_test)\n",
    "    \n",
    "    print(f\"{name} with accuracy : {accuracy_score(y_test,y_pred)}\")"
   ]
  },
  {
   "cell_type": "code",
   "execution_count": 31,
   "id": "8cc1b40e-bfbf-4bc7-93ce-726b832383d6",
   "metadata": {},
   "outputs": [
    {
     "data": {
      "text/plain": [
       "array([1, 2, 1, 1, 2, 2, 1, 1, 1, 1, 1, 2, 2, 1, 1, 1, 2, 1, 1, 1, 1, 2,\n",
       "       1, 2, 1, 2, 1, 1, 1, 1, 1, 2, 1, 1, 1, 2, 2, 1, 2, 1, 2, 2, 1, 1,\n",
       "       2, 2, 1, 1, 1, 1, 1, 1, 1, 2, 1, 1, 1, 1], dtype=int64)"
      ]
     },
     "execution_count": 31,
     "metadata": {},
     "output_type": "execute_result"
    }
   ],
   "source": [
    "dtc = DecisionTreeClassifier()\n",
    "dtc.fit(X_train,y_train)\n",
    "dtc.predict(X_test)"
   ]
  },
  {
   "cell_type": "markdown",
   "id": "ca13e095-3d3d-4209-adea-af8bf77b6c80",
   "metadata": {},
   "source": [
    "## Prediction system\r\n"
   ]
  },
  {
   "cell_type": "code",
   "execution_count": 32,
   "id": "496242ae-16e0-413c-bd94-510155fb6245",
   "metadata": {},
   "outputs": [],
   "source": [
    "def pred(age,oy,en):\n",
    "    features = np.array([[age,oy,en]])\n",
    "    features = sclr.fit_transform(features)\n",
    "    pred = dtc.predict(features).reshape(1,-1)\n",
    "    return pred[0]\n",
    "\n",
    "\n",
    "age = 50\n",
    "oy = 61\n",
    "en = 2\n",
    "\n",
    "res = pred(age,oy,en)"
   ]
  },
  {
   "cell_type": "code",
   "execution_count": 34,
   "id": "ab979cef-aa7c-4d1c-b06d-c34c43cd863b",
   "metadata": {},
   "outputs": [
    {
     "name": "stdout",
     "output_type": "stream",
     "text": [
      "[2]\n"
     ]
    }
   ],
   "source": [
    "print(res)"
   ]
  }
 ],
 "metadata": {
  "kernelspec": {
   "display_name": "Python 3 (ipykernel)",
   "language": "python",
   "name": "python3"
  },
  "language_info": {
   "codemirror_mode": {
    "name": "ipython",
    "version": 3
   },
   "file_extension": ".py",
   "mimetype": "text/x-python",
   "name": "python",
   "nbconvert_exporter": "python",
   "pygments_lexer": "ipython3",
   "version": "3.11.4"
  }
 },
 "nbformat": 4,
 "nbformat_minor": 5
}
